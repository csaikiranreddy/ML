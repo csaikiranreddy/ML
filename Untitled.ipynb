{
 "cells": [
  {
   "cell_type": "code",
   "execution_count": 79,
   "metadata": {
    "collapsed": true
   },
   "outputs": [],
   "source": [
    "import numpy as np\n",
    "import pandas as pd"
   ]
  },
  {
   "cell_type": "code",
   "execution_count": 102,
   "metadata": {},
   "outputs": [],
   "source": [
    "df = pd.read_csv(\"denver.csv\")"
   ]
  },
  {
   "cell_type": "code",
   "execution_count": 103,
   "metadata": {},
   "outputs": [
    {
     "name": "stdout",
     "output_type": "stream",
     "text": [
      "<class 'pandas.core.frame.DataFrame'>\n",
      "RangeIndex: 200 entries, 0 to 199\n",
      "Data columns (total 7 columns):\n",
      "Job Title       200 non-null object\n",
      "Occupation      200 non-null object\n",
      "Company         200 non-null object\n",
      "City / State    200 non-null object\n",
      "Metro           200 non-null object\n",
      "Wage            200 non-null object\n",
      "Year            200 non-null int64\n",
      "dtypes: int64(1), object(6)\n",
      "memory usage: 11.0+ KB\n"
     ]
    }
   ],
   "source": [
    "df.info()"
   ]
  },
  {
   "cell_type": "code",
   "execution_count": 104,
   "metadata": {
    "collapsed": true
   },
   "outputs": [],
   "source": [
    "import matplotlib.pyplot as plt\n",
    "import seaborn as sns\n",
    "%matplotlib inline"
   ]
  },
  {
   "cell_type": "code",
   "execution_count": 105,
   "metadata": {},
   "outputs": [
    {
     "data": {
      "text/plain": [
       "0                                         .NET DEVELOPER\n",
       "1                                             ACCOUNTANT\n",
       "2                                             ACCOUNTANT\n",
       "3                                             ACCOUNTANT\n",
       "4                                            ACCOUNTANTS\n",
       "5                                      ACTUARIAL ANALYST\n",
       "6                                       ADVISORY MANAGER\n",
       "7                                        ADVISORY SENIOR\n",
       "8                                        ADVISORY SENIOR\n",
       "9                                        ADVISORY SENIOR\n",
       "10                                       ADVISORY SENIOR\n",
       "11                             ADVISORY SENIOR ASSOCIATE\n",
       "12                             ADVISORY SENIOR ASSOCIATE\n",
       "13                                        ADVISORY STAFF\n",
       "14                                               ANALYST\n",
       "15                                       ANALYST-TESTING\n",
       "16                                 APPLICATION DEVELOPER\n",
       "17                                 APPLICATION DEVELOPER\n",
       "18                                 APPLICATION DEVELOPER\n",
       "19                                 APPLICATION DEVELOPER\n",
       "20                                 APPLICATION DEVELOPER\n",
       "21                                 APPLICATION DEVELOPER\n",
       "22                                 APPLICATION DEVELOPER\n",
       "23        APPLICATION DEVELOPMENT-SOFTWARE DEVELOPER III\n",
       "24                                  APPLICATION ENGINEER\n",
       "25                         APPLICATION SOFTWARE ENGINEER\n",
       "26                     APPLICATIONS DEVELOPMENT DIRECTOR\n",
       "27                     APPLICATIONS DEVELOPMENT DIRECTOR\n",
       "28                              ARCHITECTURAL INTERN III\n",
       "29                              ARCHITECTURAL INTERN III\n",
       "                             ...                        \n",
       "170                                            ESTIMATOR\n",
       "171                                       ETL QA ANALYST\n",
       "172                                       ETL/QA ANALYST\n",
       "173                                    FIELD ENGINEER II\n",
       "174                                    FINANCIAL ANALYST\n",
       "175                                    FINANCIAL ANALYST\n",
       "176                               FINANCIAL DATA ANALYST\n",
       "177                                GEOTECHNICAL ENGINEER\n",
       "178                  GRANTST AND CONTRACTS ADMINISTRATOR\n",
       "179                        HEALTH OPTIMIZATION ECONOMIST\n",
       "180                             HIGH SCHOOL MATH TEACHER\n",
       "181                          HIGH SCHOOL SPANISH TEACHER\n",
       "182                                  HIGH SCHOOL TEACHER\n",
       "183                                HRIT BUSINESS ANALYST\n",
       "184                          INDUSTRIAL ENGINEER/PLANNER\n",
       "185                          INFORMATION SYSTEMS ANALYST\n",
       "186                                           INSTRUCTOR\n",
       "187    INTEGRATED DRILLING SERVICES SHADOW PROJECT MA...\n",
       "188                               INTERIOR DESIGN INTERN\n",
       "189                                     INTERN ARCHITECT\n",
       "190    INVESTMENT OPERATIONS ANALYST (PORTFOLIO ACCOU...\n",
       "191                                INVESTMENT SPECIALIST\n",
       "192                                        IOS DEVELOPER\n",
       "193                                        IOS DEVELOPER\n",
       "194                                        IT SPECIALIST\n",
       "195             IT SUPPORT ANALYST - MOBILE APPLICATIONS\n",
       "196                           JAVA APPLICATION DEVELOPER\n",
       "197                                 KINDERGARTEN TEACHER\n",
       "198                                 KINDERGARTEN TEACHER\n",
       "199                                LABORATORY TECHNICIAN\n",
       "Name: Job Title, Length: 200, dtype: object"
      ]
     },
     "execution_count": 105,
     "metadata": {},
     "output_type": "execute_result"
    }
   ],
   "source": [
    "df[\"Job Title\"]"
   ]
  },
  {
   "cell_type": "code",
   "execution_count": 106,
   "metadata": {},
   "outputs": [],
   "source": [
    "df = df.drop_duplicates([\"Job Title\"])"
   ]
  },
  {
   "cell_type": "code",
   "execution_count": 107,
   "metadata": {},
   "outputs": [
    {
     "data": {
      "text/plain": [
       "0                                         .NET DEVELOPER\n",
       "1                                             ACCOUNTANT\n",
       "4                                            ACCOUNTANTS\n",
       "5                                      ACTUARIAL ANALYST\n",
       "6                                       ADVISORY MANAGER\n",
       "7                                        ADVISORY SENIOR\n",
       "11                             ADVISORY SENIOR ASSOCIATE\n",
       "13                                        ADVISORY STAFF\n",
       "14                                               ANALYST\n",
       "15                                       ANALYST-TESTING\n",
       "16                                 APPLICATION DEVELOPER\n",
       "23        APPLICATION DEVELOPMENT-SOFTWARE DEVELOPER III\n",
       "24                                  APPLICATION ENGINEER\n",
       "25                         APPLICATION SOFTWARE ENGINEER\n",
       "26                     APPLICATIONS DEVELOPMENT DIRECTOR\n",
       "28                              ARCHITECTURAL INTERN III\n",
       "30             ASG ADVANCED SUPPORT ENGINEER- RTI EXPERT\n",
       "31                 ASSISTANT DIRECTOR OF HCM DEVELOPMENT\n",
       "32                                   ASSISTANT PROFESSOR\n",
       "40                                             ASSOCIATE\n",
       "46                         ASSOCIATE (FINANCIAL ANALYST)\n",
       "47                     ASSOCIATE (MANAGEMENT CONSULTANT)\n",
       "48                                           ASSOCIATE 4\n",
       "49                                     ASSOCIATE DENTIST\n",
       "50                                   ASSOCIATE SCIENTIST\n",
       "51                           ASSOCIATE SOFTWARE ENGINEER\n",
       "52                                   ASSURANCE ASSOCIATE\n",
       "53                              ASSURANCE SENIOR MANAGER\n",
       "54                                AUDIT SENIOR ASSISTANT\n",
       "55                                    AUDIT SENIOR STAFF\n",
       "                             ...                        \n",
       "167                           EMBEDDED SOFTWARE ENGINEER\n",
       "168           ENGAGEMENT MANAGER (MANAGEMENT CONSULTANT)\n",
       "169                                        ERP DEVELOPER\n",
       "170                                            ESTIMATOR\n",
       "171                                       ETL QA ANALYST\n",
       "172                                       ETL/QA ANALYST\n",
       "173                                    FIELD ENGINEER II\n",
       "174                                    FINANCIAL ANALYST\n",
       "176                               FINANCIAL DATA ANALYST\n",
       "177                                GEOTECHNICAL ENGINEER\n",
       "178                  GRANTST AND CONTRACTS ADMINISTRATOR\n",
       "179                        HEALTH OPTIMIZATION ECONOMIST\n",
       "180                             HIGH SCHOOL MATH TEACHER\n",
       "181                          HIGH SCHOOL SPANISH TEACHER\n",
       "182                                  HIGH SCHOOL TEACHER\n",
       "183                                HRIT BUSINESS ANALYST\n",
       "184                          INDUSTRIAL ENGINEER/PLANNER\n",
       "185                          INFORMATION SYSTEMS ANALYST\n",
       "186                                           INSTRUCTOR\n",
       "187    INTEGRATED DRILLING SERVICES SHADOW PROJECT MA...\n",
       "188                               INTERIOR DESIGN INTERN\n",
       "189                                     INTERN ARCHITECT\n",
       "190    INVESTMENT OPERATIONS ANALYST (PORTFOLIO ACCOU...\n",
       "191                                INVESTMENT SPECIALIST\n",
       "192                                        IOS DEVELOPER\n",
       "194                                        IT SPECIALIST\n",
       "195             IT SUPPORT ANALYST - MOBILE APPLICATIONS\n",
       "196                           JAVA APPLICATION DEVELOPER\n",
       "197                                 KINDERGARTEN TEACHER\n",
       "199                                LABORATORY TECHNICIAN\n",
       "Name: Job Title, Length: 108, dtype: object"
      ]
     },
     "execution_count": 107,
     "metadata": {},
     "output_type": "execute_result"
    }
   ],
   "source": [
    "df[\"Job Title\"]"
   ]
  },
  {
   "cell_type": "code",
   "execution_count": 108,
   "metadata": {
    "scrolled": true
   },
   "outputs": [],
   "source": [
    "df['Job Title'] = np.where(df['Job Title']== '.NET DEVELOPER', 1 ,df['Job Title']  )\n",
    "df['Job Title'] = np.where(df['Job Title']== '.NET/SHAREPOINT SOFTWARE DEVELOPER', 2 ,df['Job Title']  )\n",
    "df['Job Title'] = np.where(df['Job Title']== 'ANALYST - TESTING', 3 ,df['Job Title']  )\n",
    "df['Job Title'] = np.where(df['Job Title']== 'COMPUTER PROGRAMMER', 4 ,df['Job Title']  )\n",
    "df['Job Title'] = np.where(df['Job Title']== 'BUSINESS SYSTEMS ANALYST', 5 ,df['Job Title'] )\n",
    "df['Job Title'] = np.where(df['Job Title']== 'ANALYST', 6 ,df['Job Title'] )\n",
    "df['Job Title'] = np.where(df['Job Title']== 'ANALYST-TESTING', 7 ,df['Job Title'] )\n",
    "df['Job Title'] = np.where(df['Job Title']== 'APPLICATION DEVELOPER', 8 ,df['Job Title'] )\n",
    "df['Job Title'] = np.where(df['Job Title']== 'APPLICATION ENGINEER', 9 ,df['Job Title'] )"
   ]
  },
  {
   "cell_type": "code",
   "execution_count": 109,
   "metadata": {},
   "outputs": [],
   "source": [
    "#df.drop_duplicates([\"Job Title\"])"
   ]
  },
  {
   "cell_type": "code",
   "execution_count": 110,
   "metadata": {},
   "outputs": [],
   "source": [
    "df = df[(df[\"Job Title\"] == 1) | (df[\"Job Title\"] == 2) |(df[\"Job Title\"] == 3) | (df[\"Job Title\"] == 4) | (df[\"Job Title\"] == 5) | (df[\"Job Title\"] == 6)| (df[\"Job Title\"] == 7)| (df[\"Job Title\"] == 8)| (df[\"Job Title\"] == 9)]"
   ]
  },
  {
   "cell_type": "code",
   "execution_count": 111,
   "metadata": {},
   "outputs": [
    {
     "data": {
      "text/html": [
       "<div>\n",
       "<style>\n",
       "    .dataframe thead tr:only-child th {\n",
       "        text-align: right;\n",
       "    }\n",
       "\n",
       "    .dataframe thead th {\n",
       "        text-align: left;\n",
       "    }\n",
       "\n",
       "    .dataframe tbody tr th {\n",
       "        vertical-align: top;\n",
       "    }\n",
       "</style>\n",
       "<table border=\"1\" class=\"dataframe\">\n",
       "  <thead>\n",
       "    <tr style=\"text-align: right;\">\n",
       "      <th></th>\n",
       "      <th>Job Title</th>\n",
       "      <th>Occupation</th>\n",
       "      <th>Company</th>\n",
       "      <th>City / State</th>\n",
       "      <th>Metro</th>\n",
       "      <th>Wage</th>\n",
       "      <th>Year</th>\n",
       "    </tr>\n",
       "  </thead>\n",
       "  <tbody>\n",
       "    <tr>\n",
       "      <th>0</th>\n",
       "      <td>1</td>\n",
       "      <td>SOFTWARE DEVELOPERS, APPLICATIONS</td>\n",
       "      <td>CONSULTNET, LLC</td>\n",
       "      <td>DENVER, CO</td>\n",
       "      <td>Denver-Aurora-Lakewood, CO</td>\n",
       "      <td>$93,600</td>\n",
       "      <td>2017</td>\n",
       "    </tr>\n",
       "    <tr>\n",
       "      <th>14</th>\n",
       "      <td>6</td>\n",
       "      <td>COMPUTER SYSTEMS ANALYSTS</td>\n",
       "      <td>DELOITTE CONSULTING LLP</td>\n",
       "      <td>DENVER, CO</td>\n",
       "      <td>Denver-Aurora-Lakewood, CO</td>\n",
       "      <td>$65,000</td>\n",
       "      <td>2017</td>\n",
       "    </tr>\n",
       "    <tr>\n",
       "      <th>15</th>\n",
       "      <td>7</td>\n",
       "      <td>COMPUTER OCCUPATIONS, ALL OTHER</td>\n",
       "      <td>TATA CONSULTANCY SERVICES LIMITED</td>\n",
       "      <td>DENVER, CO</td>\n",
       "      <td>Denver-Aurora-Lakewood, CO</td>\n",
       "      <td>$76,731</td>\n",
       "      <td>2017</td>\n",
       "    </tr>\n",
       "    <tr>\n",
       "      <th>16</th>\n",
       "      <td>8</td>\n",
       "      <td>COMPUTER PROGRAMMERS</td>\n",
       "      <td>IBM INDIA PRIVATE LIMITED</td>\n",
       "      <td>DENVER, CO</td>\n",
       "      <td>Denver-Aurora-Lakewood, CO</td>\n",
       "      <td>$80,835</td>\n",
       "      <td>2017</td>\n",
       "    </tr>\n",
       "    <tr>\n",
       "      <th>24</th>\n",
       "      <td>9</td>\n",
       "      <td>COMPUTER OCCUPATIONS, ALL OTHER</td>\n",
       "      <td>DENVER ENERGY GROUP LLC</td>\n",
       "      <td>DENVER, CO</td>\n",
       "      <td>Denver-Aurora-Lakewood, CO</td>\n",
       "      <td>$83,000</td>\n",
       "      <td>2017</td>\n",
       "    </tr>\n",
       "    <tr>\n",
       "      <th>76</th>\n",
       "      <td>4</td>\n",
       "      <td>COMPUTER PROGRAMMERS</td>\n",
       "      <td>LARSEN &amp; TOUBRO INFOTECH LIMITED</td>\n",
       "      <td>DENVER, CO</td>\n",
       "      <td>Denver-Aurora-Lakewood, CO</td>\n",
       "      <td>$70,548</td>\n",
       "      <td>2017</td>\n",
       "    </tr>\n",
       "  </tbody>\n",
       "</table>\n",
       "</div>"
      ],
      "text/plain": [
       "   Job Title                         Occupation  \\\n",
       "0          1  SOFTWARE DEVELOPERS, APPLICATIONS   \n",
       "14         6          COMPUTER SYSTEMS ANALYSTS   \n",
       "15         7    COMPUTER OCCUPATIONS, ALL OTHER   \n",
       "16         8               COMPUTER PROGRAMMERS   \n",
       "24         9    COMPUTER OCCUPATIONS, ALL OTHER   \n",
       "76         4               COMPUTER PROGRAMMERS   \n",
       "\n",
       "                              Company City / State  \\\n",
       "0                     CONSULTNET, LLC   DENVER, CO   \n",
       "14            DELOITTE CONSULTING LLP   DENVER, CO   \n",
       "15  TATA CONSULTANCY SERVICES LIMITED   DENVER, CO   \n",
       "16          IBM INDIA PRIVATE LIMITED   DENVER, CO   \n",
       "24            DENVER ENERGY GROUP LLC   DENVER, CO   \n",
       "76   LARSEN & TOUBRO INFOTECH LIMITED   DENVER, CO   \n",
       "\n",
       "                         Metro     Wage  Year  \n",
       "0   Denver-Aurora-Lakewood, CO  $93,600  2017  \n",
       "14  Denver-Aurora-Lakewood, CO  $65,000  2017  \n",
       "15  Denver-Aurora-Lakewood, CO  $76,731  2017  \n",
       "16  Denver-Aurora-Lakewood, CO  $80,835  2017  \n",
       "24  Denver-Aurora-Lakewood, CO  $83,000  2017  \n",
       "76  Denver-Aurora-Lakewood, CO  $70,548  2017  "
      ]
     },
     "execution_count": 111,
     "metadata": {},
     "output_type": "execute_result"
    }
   ],
   "source": [
    "df"
   ]
  },
  {
   "cell_type": "code",
   "execution_count": 72,
   "metadata": {},
   "outputs": [
    {
     "data": {
      "text/plain": [
       "<matplotlib.axes._subplots.AxesSubplot at 0x1ffdec144e0>"
      ]
     },
     "execution_count": 72,
     "metadata": {},
     "output_type": "execute_result"
    },
    {
     "data": {
      "image/png": "[encoded data removed]",
      "text/plain": [
       "<matplotlib.figure.Figure at 0x1ffdead3940>"
      ]
     },
     "metadata": {},
     "output_type": "display_data"
    }
   ],
   "source": [
    "sns.countplot(df[\"Company\"],label=\"Count\")"
   ]
  },
  {
   "cell_type": "code",
   "execution_count": 73,
   "metadata": {},
   "outputs": [
    {
     "data": {
      "text/plain": [
       "<matplotlib.axes._subplots.AxesSubplot at 0x1ffdecd4358>"
      ]
     },
     "execution_count": 73,
     "metadata": {},
     "output_type": "execute_result"
    },
    {
     "data": {
      "image/png": "[encoded data removed]",
      "text/plain": [
       "<matplotlib.figure.Figure at 0x1ffdeb559b0>"
      ]
     },
     "metadata": {},
     "output_type": "display_data"
    }
   ],
   "source": [
    "sns.countplot(df[\"Job Title\"],label=\"Count\")"
   ]
  },
  {
   "cell_type": "code",
   "execution_count": null,
   "metadata": {
    "collapsed": true
   },
   "outputs": [],
   "source": []
  },
  {
   "cell_type": "code",
   "execution_count": null,
   "metadata": {
    "collapsed": true
   },
   "outputs": [],
   "source": []
  }
 ],
 "metadata": {
  "kernelspec": {
   "display_name": "Python 3",
   "language": "python",
   "name": "python3"
  }
 },
 "nbformat": 4,
 "nbformat_minor": 2
}
